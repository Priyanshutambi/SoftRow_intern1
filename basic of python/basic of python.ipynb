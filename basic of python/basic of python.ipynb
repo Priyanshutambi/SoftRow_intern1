{
 "cells": [
  {
   "cell_type": "code",
   "execution_count": 1,
   "id": "6e985276",
   "metadata": {},
   "outputs": [
    {
     "name": "stdout",
     "output_type": "stream",
     "text": [
      "22\n",
      "2.2\n",
      "3j\n",
      "<class 'int'>\n",
      "<class 'float'>\n",
      "<class 'complex'>\n"
     ]
    }
   ],
   "source": [
    "A=22\n",
    "b=2.2\n",
    "c=3j\n",
    "\n",
    "print(A)\n",
    "print(b)\n",
    "print(c)\n",
    "\n",
    "print(type(A))\n",
    "print(type(b))\n",
    "print(type(c))\n"
   ]
  },
  {
   "cell_type": "code",
   "execution_count": 2,
   "id": "ba1ad26c",
   "metadata": {},
   "outputs": [],
   "source": [
    "a='hello world'\n",
    "\n"
   ]
  },
  {
   "cell_type": "code",
   "execution_count": 3,
   "id": "e199c54f",
   "metadata": {},
   "outputs": [
    {
     "name": "stdout",
     "output_type": "stream",
     "text": [
      "hello world\n"
     ]
    }
   ],
   "source": [
    "print(a)"
   ]
  },
  {
   "cell_type": "code",
   "execution_count": 4,
   "id": "7570a051",
   "metadata": {},
   "outputs": [
    {
     "name": "stdout",
     "output_type": "stream",
     "text": [
      "<class 'str'>\n"
     ]
    }
   ],
   "source": [
    "print(type(a))"
   ]
  },
  {
   "cell_type": "code",
   "execution_count": 5,
   "id": "7cdb10c4",
   "metadata": {},
   "outputs": [],
   "source": [
    "a=[1,2,3,4,5,6]\n"
   ]
  },
  {
   "cell_type": "code",
   "execution_count": 6,
   "id": "89631ab8",
   "metadata": {},
   "outputs": [
    {
     "name": "stdout",
     "output_type": "stream",
     "text": [
      "[1, 2, 3, 4, 5, 6]\n",
      "<class 'list'>\n"
     ]
    }
   ],
   "source": [
    "print(a)\n",
    "print(type(a))"
   ]
  },
  {
   "cell_type": "code",
   "execution_count": 7,
   "id": "3b32f27c",
   "metadata": {},
   "outputs": [],
   "source": [
    "t1=(1,2,3,4,5)"
   ]
  },
  {
   "cell_type": "code",
   "execution_count": 8,
   "id": "841e2909",
   "metadata": {},
   "outputs": [
    {
     "name": "stdout",
     "output_type": "stream",
     "text": [
      "(1, 2, 3, 4, 5)\n",
      "<class 'tuple'>\n"
     ]
    }
   ],
   "source": [
    "print(t1)\n",
    "print(type(t1))"
   ]
  },
  {
   "cell_type": "code",
   "execution_count": 9,
   "id": "219cdb96",
   "metadata": {},
   "outputs": [],
   "source": [
    "dic={1:'ram',2:'shyam',3:'rahul'}"
   ]
  },
  {
   "cell_type": "code",
   "execution_count": 10,
   "id": "f5dc712f",
   "metadata": {},
   "outputs": [
    {
     "name": "stdout",
     "output_type": "stream",
     "text": [
      "{1: 'ram', 2: 'shyam', 3: 'rahul'}\n"
     ]
    }
   ],
   "source": [
    "print(dic)"
   ]
  },
  {
   "cell_type": "code",
   "execution_count": 11,
   "id": "fec1f31a",
   "metadata": {},
   "outputs": [
    {
     "name": "stdout",
     "output_type": "stream",
     "text": [
      "<class 'dict'>\n"
     ]
    }
   ],
   "source": [
    "print(type(dic))"
   ]
  },
  {
   "cell_type": "code",
   "execution_count": 12,
   "id": "b44cf229",
   "metadata": {},
   "outputs": [
    {
     "name": "stdout",
     "output_type": "stream",
     "text": [
      "1\n",
      "2\n",
      "3\n"
     ]
    }
   ],
   "source": [
    "x = int(1)\n",
    "y = int(2.8)\n",
    "z = int(\"3\")\n",
    "print(x)\n",
    "print(y)\n",
    "print(z)\n"
   ]
  },
  {
   "cell_type": "code",
   "execution_count": 13,
   "id": "54eb52e7",
   "metadata": {},
   "outputs": [
    {
     "name": "stdout",
     "output_type": "stream",
     "text": [
      "Hello world\n"
     ]
    }
   ],
   "source": [
    "def my_function():\n",
    "  print(\"Hello world\")\n",
    "\n",
    "my_function()\n"
   ]
  },
  {
   "cell_type": "code",
   "execution_count": 14,
   "id": "5b6632f0",
   "metadata": {},
   "outputs": [],
   "source": [
    "a=10\n",
    "b=5"
   ]
  },
  {
   "cell_type": "code",
   "execution_count": 15,
   "id": "83fc46d2",
   "metadata": {},
   "outputs": [],
   "source": [
    "c=a+b"
   ]
  },
  {
   "cell_type": "code",
   "execution_count": 16,
   "id": "93c43c01",
   "metadata": {},
   "outputs": [
    {
     "name": "stdout",
     "output_type": "stream",
     "text": [
      "15\n"
     ]
    }
   ],
   "source": [
    "print(c)"
   ]
  },
  {
   "cell_type": "code",
   "execution_count": 17,
   "id": "6b91c2d5",
   "metadata": {},
   "outputs": [],
   "source": [
    "d=a-b\n",
    "e=a*b\n",
    "f=a/b"
   ]
  },
  {
   "cell_type": "code",
   "execution_count": 18,
   "id": "9d5fdef6",
   "metadata": {},
   "outputs": [
    {
     "name": "stdout",
     "output_type": "stream",
     "text": [
      "5\n",
      "50\n",
      "2.0\n"
     ]
    }
   ],
   "source": [
    "print(d)\n",
    "print(e)\n",
    "print(f)"
   ]
  },
  {
   "cell_type": "code",
   "execution_count": 22,
   "id": "f1d69a99",
   "metadata": {},
   "outputs": [],
   "source": [
    "a=10\n",
    "b=10"
   ]
  },
  {
   "cell_type": "code",
   "execution_count": 24,
   "id": "5699532a",
   "metadata": {},
   "outputs": [
    {
     "name": "stdout",
     "output_type": "stream",
     "text": [
      "b is not greater than a\n"
     ]
    }
   ],
   "source": [
    "a = 100\n",
    "b = 33\n",
    "\n",
    "if b > a:\n",
    "  print(\"b is greater than a\")\n",
    "else:\n",
    "  print(\"b is not greater than a\")"
   ]
  },
  {
   "cell_type": "code",
   "execution_count": 1,
   "id": "add74f6e",
   "metadata": {},
   "outputs": [
    {
     "name": "stdout",
     "output_type": "stream",
     "text": [
      "enter you number11\n",
      "odd\n"
     ]
    }
   ],
   "source": [
    "num = int(input('enter you number'))\n",
    "\n",
    "if num %2==0:\n",
    "    print('even')\n",
    "else:\n",
    "    print(\"odd\")"
   ]
  },
  {
   "cell_type": "code",
   "execution_count": 3,
   "id": "504ca585",
   "metadata": {},
   "outputs": [
    {
     "name": "stdout",
     "output_type": "stream",
     "text": [
      "audi\n",
      "bmw\n"
     ]
    }
   ],
   "source": [
    "cars = [\"audi\", \"bmw\", \"tata\"]\n",
    "for x in cars:\n",
    "  print(x)\n",
    "  if x == \"bmw\":\n",
    "    break\n"
   ]
  },
  {
   "cell_type": "code",
   "execution_count": 4,
   "id": "2d2daab3",
   "metadata": {},
   "outputs": [],
   "source": [
    "color=[\"red\",\"black\",\"green\"]"
   ]
  },
  {
   "cell_type": "code",
   "execution_count": 5,
   "id": "220f11cc",
   "metadata": {},
   "outputs": [
    {
     "name": "stdout",
     "output_type": "stream",
     "text": [
      "['red', 'black', 'green']\n"
     ]
    }
   ],
   "source": [
    "print(color)"
   ]
  },
  {
   "cell_type": "code",
   "execution_count": 6,
   "id": "210f5399",
   "metadata": {},
   "outputs": [
    {
     "name": "stdout",
     "output_type": "stream",
     "text": [
      "<class 'list'>\n"
     ]
    }
   ],
   "source": [
    "print(type(color))"
   ]
  },
  {
   "cell_type": "code",
   "execution_count": 7,
   "id": "37079e94",
   "metadata": {},
   "outputs": [],
   "source": [
    "color[1]=\"blue\""
   ]
  },
  {
   "cell_type": "code",
   "execution_count": 8,
   "id": "f2fff4fa",
   "metadata": {},
   "outputs": [
    {
     "name": "stdout",
     "output_type": "stream",
     "text": [
      "['red', 'blue', 'green']\n"
     ]
    }
   ],
   "source": [
    "print(color)"
   ]
  },
  {
   "cell_type": "code",
   "execution_count": 10,
   "id": "89428e4a",
   "metadata": {},
   "outputs": [],
   "source": [
    "lis = [1,2,3,4,5,6]\n",
    "lis2 = ['gaurav','shubham','sachin','shubhash','jay','raghav']\n",
    "lis3 = lis+lis2"
   ]
  },
  {
   "cell_type": "code",
   "execution_count": 11,
   "id": "7087632b",
   "metadata": {},
   "outputs": [
    {
     "name": "stdout",
     "output_type": "stream",
     "text": [
      "[1, 2, 3, 4, 5, 6, 'gaurav', 'shubham', 'sachin', 'shubhash', 'jay', 'raghav']\n"
     ]
    }
   ],
   "source": [
    "print(lis3)"
   ]
  },
  {
   "cell_type": "code",
   "execution_count": 12,
   "id": "906a0f49",
   "metadata": {},
   "outputs": [
    {
     "name": "stdout",
     "output_type": "stream",
     "text": [
      "['shubham', 'sachin', 'bhadur', 'aashish', 'bhati']\n"
     ]
    }
   ],
   "source": [
    "name = ['shubham','sachin','bhadur','aashish','bhati']\n",
    "print(name)"
   ]
  },
  {
   "cell_type": "code",
   "execution_count": 13,
   "id": "227d71f7",
   "metadata": {},
   "outputs": [
    {
     "data": {
      "text/plain": [
       "1"
      ]
     },
     "execution_count": 13,
     "metadata": {},
     "output_type": "execute_result"
    }
   ],
   "source": [
    "name.index(\"sachin\")"
   ]
  },
  {
   "cell_type": "code",
   "execution_count": 14,
   "id": "5181bc33",
   "metadata": {},
   "outputs": [],
   "source": [
    "name.insert(1,'ravi')"
   ]
  },
  {
   "cell_type": "code",
   "execution_count": 15,
   "id": "56a22b06",
   "metadata": {},
   "outputs": [
    {
     "name": "stdout",
     "output_type": "stream",
     "text": [
      "['shubham', 'ravi', 'sachin', 'bhadur', 'aashish', 'bhati']\n"
     ]
    }
   ],
   "source": [
    "print(name)"
   ]
  },
  {
   "cell_type": "code",
   "execution_count": 16,
   "id": "ce27089f",
   "metadata": {},
   "outputs": [
    {
     "name": "stdout",
     "output_type": "stream",
     "text": [
      "None\n"
     ]
    }
   ],
   "source": [
    "print(name.append(1000))"
   ]
  },
  {
   "cell_type": "code",
   "execution_count": 17,
   "id": "564fd2a4",
   "metadata": {},
   "outputs": [],
   "source": [
    "name.remove('ravi')"
   ]
  },
  {
   "cell_type": "code",
   "execution_count": 18,
   "id": "8dfa26c6",
   "metadata": {
    "scrolled": true
   },
   "outputs": [
    {
     "name": "stdout",
     "output_type": "stream",
     "text": [
      "['shubham', 'sachin', 'bhadur', 'aashish', 'bhati', 1000]\n"
     ]
    }
   ],
   "source": [
    "print(name)"
   ]
  },
  {
   "cell_type": "code",
   "execution_count": 1,
   "id": "a7680ac7",
   "metadata": {},
   "outputs": [],
   "source": [
    "info = {\n",
    "    'name':\"gaurav\",\n",
    "    'state':'rajathan',\n",
    "    \"course\":'python',\n",
    "    'mob':123456789\n",
    "}"
   ]
  },
  {
   "cell_type": "code",
   "execution_count": 2,
   "id": "a4c01b4c",
   "metadata": {
    "scrolled": true
   },
   "outputs": [
    {
     "name": "stdout",
     "output_type": "stream",
     "text": [
      "{'name': 'gaurav', 'state': 'rajathan', 'course': 'python', 'mob': 123456789}\n"
     ]
    }
   ],
   "source": [
    "print(info)"
   ]
  },
  {
   "cell_type": "code",
   "execution_count": 3,
   "id": "df8d799e",
   "metadata": {},
   "outputs": [
    {
     "data": {
      "text/plain": [
       "dict_values(['gaurav', 'rajathan', 'python', 123456789])"
      ]
     },
     "execution_count": 3,
     "metadata": {},
     "output_type": "execute_result"
    }
   ],
   "source": [
    "info.values()"
   ]
  },
  {
   "cell_type": "code",
   "execution_count": 4,
   "id": "e78db8b3",
   "metadata": {},
   "outputs": [
    {
     "data": {
      "text/plain": [
       "('mob', 123456789)"
      ]
     },
     "execution_count": 4,
     "metadata": {},
     "output_type": "execute_result"
    }
   ],
   "source": [
    "info.popitem()"
   ]
  },
  {
   "cell_type": "code",
   "execution_count": 5,
   "id": "3366444a",
   "metadata": {},
   "outputs": [
    {
     "data": {
      "text/plain": [
       "'gaurav'"
      ]
     },
     "execution_count": 5,
     "metadata": {},
     "output_type": "execute_result"
    }
   ],
   "source": [
    "info.pop(\"name\")"
   ]
  },
  {
   "cell_type": "code",
   "execution_count": 6,
   "id": "6c859c84",
   "metadata": {},
   "outputs": [
    {
     "data": {
      "text/plain": [
       "dict_keys(['state', 'course'])"
      ]
     },
     "execution_count": 6,
     "metadata": {},
     "output_type": "execute_result"
    }
   ],
   "source": [
    "info.keys()"
   ]
  },
  {
   "cell_type": "code",
   "execution_count": 7,
   "id": "4ee3d2bd",
   "metadata": {},
   "outputs": [
    {
     "data": {
      "text/plain": [
       "dict_items([('state', 'rajathan'), ('course', 'python')])"
      ]
     },
     "execution_count": 7,
     "metadata": {},
     "output_type": "execute_result"
    }
   ],
   "source": [
    "info.items()"
   ]
  },
  {
   "cell_type": "code",
   "execution_count": 10,
   "id": "38e1c02e",
   "metadata": {},
   "outputs": [],
   "source": [
    "students = {\n",
    "    \"s1\":['gaurav','python','lab2','madhyapradesh'],\n",
    "    \"s2\":['shubham','c++','lab1','delhi'],\n",
    "    \"s3\":['sachin','dsa','lab5','alwar']\n",
    "}"
   ]
  },
  {
   "cell_type": "code",
   "execution_count": 3,
   "id": "c751b7f1",
   "metadata": {},
   "outputs": [],
   "source": [
    "info = {\n",
    "    'cake':400,\n",
    "    'momos':200,\n",
    "    'cold-coffe':150\n",
    "}"
   ]
  },
  {
   "cell_type": "code",
   "execution_count": 4,
   "id": "48a8cb38",
   "metadata": {},
   "outputs": [
    {
     "data": {
      "text/plain": [
       "{'cake': 400, 'momos': 200, 'cold-coffe': 150}"
      ]
     },
     "execution_count": 4,
     "metadata": {},
     "output_type": "execute_result"
    }
   ],
   "source": [
    "info"
   ]
  },
  {
   "cell_type": "code",
   "execution_count": 5,
   "id": "98ec331a",
   "metadata": {},
   "outputs": [],
   "source": [
    "info.update({'curd':124})"
   ]
  },
  {
   "cell_type": "code",
   "execution_count": 6,
   "id": "337d7d27",
   "metadata": {},
   "outputs": [
    {
     "data": {
      "text/plain": [
       "{'cake': 400, 'momos': 200, 'cold-coffe': 150, 'curd': 124}"
      ]
     },
     "execution_count": 6,
     "metadata": {},
     "output_type": "execute_result"
    }
   ],
   "source": [
    "info"
   ]
  },
  {
   "cell_type": "code",
   "execution_count": 11,
   "id": "537b81a9",
   "metadata": {},
   "outputs": [
    {
     "data": {
      "text/plain": [
       "['gaurav', 'python', 'lab2', 'madhyapradesh']"
      ]
     },
     "execution_count": 11,
     "metadata": {},
     "output_type": "execute_result"
    }
   ],
   "source": [
    "students.setdefault(\"s1\")"
   ]
  },
  {
   "cell_type": "code",
   "execution_count": 12,
   "id": "f20b1e47",
   "metadata": {},
   "outputs": [
    {
     "data": {
      "text/plain": [
       "['gaurav', 'python', 'lab2', 'madhyapradesh']"
      ]
     },
     "execution_count": 12,
     "metadata": {},
     "output_type": "execute_result"
    }
   ],
   "source": [
    "students.setdefault('s4',['gaurav', 'python', 'lab2', 'madhyapradesh'])"
   ]
  },
  {
   "cell_type": "code",
   "execution_count": 13,
   "id": "3d307661",
   "metadata": {},
   "outputs": [
    {
     "data": {
      "text/plain": [
       "['gaurav', 'python', 'lab2', 'madhyapradesh']"
      ]
     },
     "execution_count": 13,
     "metadata": {},
     "output_type": "execute_result"
    }
   ],
   "source": [
    "students.setdefault('s5',['gaurav', 'python', 'lab2', 'madhyapradesh'])"
   ]
  },
  {
   "cell_type": "code",
   "execution_count": 14,
   "id": "b9179ad4",
   "metadata": {},
   "outputs": [
    {
     "data": {
      "text/plain": [
       "{'s1': ['gaurav', 'python', 'lab2', 'madhyapradesh'],\n",
       " 's2': ['shubham', 'c++', 'lab1', 'delhi'],\n",
       " 's3': ['sachin', 'dsa', 'lab5', 'alwar'],\n",
       " 's4': ['gaurav', 'python', 'lab2', 'madhyapradesh'],\n",
       " 's5': ['gaurav', 'python', 'lab2', 'madhyapradesh']}"
      ]
     },
     "execution_count": 14,
     "metadata": {},
     "output_type": "execute_result"
    }
   ],
   "source": [
    "students"
   ]
  },
  {
   "cell_type": "code",
   "execution_count": 15,
   "id": "f57c7d88",
   "metadata": {},
   "outputs": [
    {
     "name": "stdout",
     "output_type": "stream",
     "text": [
      "enter a number of day:-> 6\n",
      "fri\n"
     ]
    }
   ],
   "source": [
    "days = {\n",
    "    1:'sunday',\n",
    "    2:'monday',\n",
    "    3:'tue',\n",
    "    4:'wed',\n",
    "    5:'thr',\n",
    "    6:'fri',\n",
    "    7:'sat',\n",
    "    8:'sunday'\n",
    "}\n",
    "\n",
    "\n",
    "day_num = int(input('enter a number of day:-> '))\n",
    "\n",
    "print(days.get(day_num,'Invalid input'))"
   ]
  },
  {
   "cell_type": "code",
   "execution_count": null,
   "id": "ea855e4b",
   "metadata": {},
   "outputs": [],
   "source": []
  }
 ],
 "metadata": {
  "kernelspec": {
   "display_name": "Python 3 (ipykernel)",
   "language": "python",
   "name": "python3"
  },
  "language_info": {
   "codemirror_mode": {
    "name": "ipython",
    "version": 3
   },
   "file_extension": ".py",
   "mimetype": "text/x-python",
   "name": "python",
   "nbconvert_exporter": "python",
   "pygments_lexer": "ipython3",
   "version": "3.11.5"
  }
 },
 "nbformat": 4,
 "nbformat_minor": 5
}
